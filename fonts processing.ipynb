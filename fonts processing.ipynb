{
 "cells": [
  {
   "cell_type": "code",
   "execution_count": 4,
   "metadata": {},
   "outputs": [],
   "source": [
    "import numpy as np\n",
    "import sklearn as sk\n",
    "import pandas as pd\n",
    "import numpy.random as rd\n",
    "import matplotlib.pyplot as plt\n",
    "\n",
    "%matplotlib inline\n",
    "\n",
    "from PIL import Image\n",
    "from PIL import ImageFont, ImageDraw\n",
    "from pathlib import Path\n",
    "\n",
    "from IPython.core.debugger import set_trace\n",
    "import string\n",
    "import os\n",
    "\n",
    "pd.options.display.max_rows = 5"
   ]
  },
  {
   "cell_type": "raw",
   "metadata": {},
   "source": [
    "# %cd \"C:/Users/Olavo/Google Drive/Deep\"\n",
    "%cd \"D:/Projects/Thesis\"\n",
    "\n",
    "# fonts_df = pd.read_pickle('./fonts database/fonts_df2.pkl');\n",
    "# fonts_df.to_pickle('./0/fonts_df2.pkl')"
   ]
  },
  {
   "cell_type": "code",
   "execution_count": 58,
   "metadata": {},
   "outputs": [
    {
     "name": "stdout",
     "output_type": "stream",
     "text": [
      "D:/Projects/Thesis/fonts database/all0/5₧5.ttf\n",
      "D:/Projects/Thesis/fonts database/all0/aesymatt.ttf\n",
      "D:/Projects/Thesis/fonts database/all0/desktop.ini\n",
      "D:/Projects/Thesis/fonts database/all0/FreePixel.ttf\n",
      "D:/Projects/Thesis/fonts database/all0/Pixel_Berry_08_84_Ltd.Edition.TTF\n",
      "D:/Projects/Thesis/fonts database/all0/Star-Fox-Starwing.ttf\n",
      "D:/Projects/Thesis/fonts database/all0/TLOZ-Minish-Cap-A-Link-to-the-Past-Four-Sword.ttf\n"
     ]
    }
   ],
   "source": [
    "# Cicla nos ficheiros das fontes e criar uma dataframe com todas elas.\n",
    "# A dataframe depois é usada para criar os datasets para o pytorch\n",
    "\n",
    "# A correr só se for preciso criar de novo as imagens!\n",
    "\n",
    "paths = [os.path.basename(os.path.normpath(pth)) for pth in Path.cwd().iterdir()]\n",
    "k = 0\n",
    "\n",
    "# Tinha feito com estes valores iguais a 50 e, em vez de correr outra vez esta célula, corrigi em baixo\n",
    "x_image = 32  #50\n",
    "y_image = 32  #50\n",
    "\n",
    "k = 0\n",
    "\n",
    "#for file in Path(\"./fonts database/all0/\").iterdir():\n",
    "# Por algum motivo não estava a funcionar com o caminho relativo (em cima). Tive que usar o absoluto:\n",
    "\n",
    "base_dir = \"D:/Projects/Thesis/fonts database/\"\n",
    "\n",
    "for file in Path(base_dir + \"all0/\").iterdir():\n",
    "    try:\n",
    "        last_part_path = os.path.basename(os.path.normpath(file))\n",
    "        file_path = base_dir + \"fonts32/\" + last_part_path\n",
    "        file = base_dir + \"all0/\" + last_part_path\n",
    "        os.mkdir(file_path[:-4])\n",
    "        font = ImageFont.truetype(file, 100)\n",
    "        xmax, ymax = 0, 0\n",
    "\n",
    "        for character in string.ascii_uppercase:\n",
    "            x, y = font.getsize(character)\n",
    "            if x > xmax:\n",
    "                xmax = x\n",
    "            if y > ymax:\n",
    "                ymax = y\n",
    "\n",
    "        # Tentar ter um tamanho mais uniforme das fontes (ainda há um ou outro caso em que elas saem fora)\n",
    "        font = ImageFont.truetype(file, int(5000/(xmax+ymax)))\n",
    "\n",
    "\n",
    "        for character in string.ascii_uppercase:\n",
    "            x, y = font.getsize(character)\n",
    "            image = Image.new(\"L\", (x_image,y_image), 255)\n",
    "    #         image = Image.new(\"RGBA\", (x_image,y_image), (255,255,255))\n",
    "            draw = ImageDraw.Draw(image)\n",
    "\n",
    "            draw.fontmode = \"1\" # (anti)aliasing on\n",
    "\n",
    "            # Centrar a fonte\n",
    "    #         draw.text(((x_image - x)/2,(y_image - y)/2), character, (0,0,0), font=font)\n",
    "            draw.text(((x_image - x)/2,(y_image - y)/2), character, 0, font=font)\n",
    "\n",
    "            image.save(file_path[:-4] + \"/\" + font.getname()[0] + \" \" + font.getname()[1] + \" - \" + str(character) + \".png\")\n",
    "\n",
    "    except:\n",
    "        print(file)\n",
    "        pass\n",
    "\n",
    "    k += 1\n",
    "#     if k > 100:\n",
    "#         break"
   ]
  },
  {
   "cell_type": "code",
   "execution_count": 92,
   "metadata": {},
   "outputs": [],
   "source": [
    "# Cuidado para não sobrepôr os dados!!\n",
    "# Eu transformo em df depois de transformar em imagens e não ao mesmo tempo porque\n",
    "# ainda estive a filtrar algumas das fontes, que estavam fora ou tinham outros problemas.\n",
    "# Baseio-me portanto nas fontes em fonts50\n",
    "\n",
    "# Listas para pôr dados a enviar para o pandas\n",
    "fonts_arrays = []\n",
    "fonts_names = []\n",
    "\n",
    "for i, folder in enumerate(Path(base_dir + \"fonts32\").iterdir()):\n",
    "\n",
    "    # Dicionário com as colunas a ser enviadas para o pandas\n",
    "    dict_font = {}\n",
    "    k = 0\n",
    "    for character, file in zip(string.ascii_uppercase, Path(folder).iterdir()):\n",
    "        img = Image.open(file)\n",
    "        img_array = np.array(img)\n",
    "        if k == 0 and img_array.shape == (50, 50):\n",
    "            print(img_array.shape, file, )\n",
    "        # As np.float32 because pytorch likes flaot32?\n",
    "        # I made an error before and created 50X50 pics instead of 48X48, so I undo this here\n",
    "        img_array = np.where(img_array == 255., 0., 1.) #.astype(np.float32)[1:-1, 1:-1]\n",
    "        dict_font.update({character: img_array})\n",
    "        k += 1\n",
    "    fonts_arrays.append(dict_font)\n",
    "\n",
    "    font_name = os.path.basename(os.path.normpath(file))[:-8]\n",
    "    fonts_names.append(font_name)"
   ]
  },
  {
   "cell_type": "code",
   "execution_count": 93,
   "metadata": {},
   "outputs": [],
   "source": [
    "fonts32_df = pd.DataFrame(fonts_arrays)\n",
    "fonts32_df['font_name'] = fonts_names"
   ]
  },
  {
   "cell_type": "code",
   "execution_count": 94,
   "metadata": {},
   "outputs": [],
   "source": [
    "fonts32_df.to_pickle(base_dir + 'fonts32_df.pkl')"
   ]
  },
  {
   "cell_type": "raw",
   "metadata": {},
   "source": [
    "fonts32_df = pd.read_pickle('./fonts database/fonts32_df.pkl');"
   ]
  },
  {
   "cell_type": "code",
   "execution_count": 8,
   "metadata": {},
   "outputs": [],
   "source": [
    "# Pôr mais bonito, sem loops (Tive que criar lista para ser mais facil criar o dataframe para passar para o dataset)\n",
    "X = [None]*len(fonts48_df) # Se mudar tamanho mudar aqui\n",
    "for i in range(len(fonts48_df)):\n",
    "    X[i] = np.zeros((25, 48, 48), dtype=np.float32)\n",
    "    for j in range(25):\n",
    "        X[i][j] = fonts48_df.loc[i][j]\n",
    "\n",
    "y = [None]*len(y_)\n",
    "for i in range(len(y_)):\n",
    "    y[i] = y_[i].astype(np.float32)"
   ]
  }
 ],
 "metadata": {
  "kernelspec": {
   "display_name": "Python 3",
   "language": "python",
   "name": "python3"
  },
  "language_info": {
   "codemirror_mode": {
    "name": "ipython",
    "version": 3
   },
   "file_extension": ".py",
   "mimetype": "text/x-python",
   "name": "python",
   "nbconvert_exporter": "python",
   "pygments_lexer": "ipython3",
   "version": "3.7.4"
  }
 },
 "nbformat": 4,
 "nbformat_minor": 4
}
